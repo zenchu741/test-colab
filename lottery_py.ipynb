{
  "nbformat": 4,
  "nbformat_minor": 0,
  "metadata": {
    "colab": {
      "name": "lottery.py",
      "provenance": [],
      "authorship_tag": "ABX9TyPRKBDePZQhqWymjnoqNLYq",
      "include_colab_link": true
    },
    "kernelspec": {
      "name": "python3",
      "display_name": "Python 3"
    }
  },
  "cells": [
    {
      "cell_type": "markdown",
      "metadata": {
        "id": "view-in-github",
        "colab_type": "text"
      },
      "source": [
        "<a href=\"https://colab.research.google.com/github/zenchu741/test-colab/blob/master/lottery_py.ipynb\" target=\"_parent\"><img src=\"https://colab.research.google.com/assets/colab-badge.svg\" alt=\"Open In Colab\"/></a>"
      ]
    },
    {
      "cell_type": "code",
      "metadata": {
        "id": "RAuvPXkQQdAR"
      },
      "source": [
        "import openpyxl,random,pprint\r\n",
        "import pandas as pd\r\n",
        "import tkinter as tk\r\n",
        "from tkinter import messagebox\r\n",
        "import time, json, os\r\n",
        "from tkinter import *\r\n",
        "import threading\r\n",
        "from configparser import RawConfigParser\r\n",
        "from tkinter import ttk"
      ],
      "execution_count": 1,
      "outputs": []
    },
    {
      "cell_type": "code",
      "metadata": {
        "id": "lHjSiAQ2Qnl4"
      },
      "source": [
        "class WinLottery:\r\n",
        "  def __init__(self):\r\n",
        "    id_file = \"\"\r\n",
        "    reward_file = \"\"\r\n",
        "    sheet_name = \"\"\r\n",
        "    reward = \"\"\r\n",
        "    num = 0\r\n",
        "    going = bool\r\n",
        "    is_run = bool\r\n",
        "\r\n",
        "    deps = []\r\n",
        "    it_rewards = {}\r\n",
        "    dep_rewards = {}\r\n",
        "\r\n",
        "    self.data_list = []\r\n",
        "    self.frames = []"
      ],
      "execution_count": 9,
      "outputs": []
    },
    {
      "cell_type": "code",
      "metadata": {
        "id": "crrrU1TsQ_ZB"
      },
      "source": [
        ""
      ],
      "execution_count": null,
      "outputs": []
    },
    {
      "cell_type": "code",
      "metadata": {
        "id": "lHwHU0QFQ6TQ"
      },
      "source": [
        ""
      ],
      "execution_count": null,
      "outputs": []
    }
  ]
}